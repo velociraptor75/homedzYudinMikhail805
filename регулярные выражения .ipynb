{
 "cells": [
  {
   "cell_type": "code",
   "execution_count": 2,
   "metadata": {},
   "outputs": [
    {
     "name": "stdout",
     "output_type": "stream",
     "text": [
      "['12', '٦٧']\n",
      "['Hello', 'world']\n",
      "['ОООО', 'ааааа', 'ЫЫЫЫ', 'яяяя']\n",
      "[]\n",
      "[]\n",
      "['вишней1', 'вишней2']\n",
      "['вишней2']\n"
     ]
    }
   ],
   "source": [
    "import re \n",
    "print(re.findall(r'\\d+', '12 + ٦٧')) \n",
    "\n",
    "print(re.findall(r'\\w+', 'Hello, world!')) \n",
    "print(re.findall(r'[уеыаоэяию]+', 'ОООО ааааа ррррр ЫЫЫЫ яяяя', flags=re.IGNORECASE)) \n",
    "\n",
    "\n",
    "text = r\"\"\" \n",
    "Торт \n",
    "с вишней1 \n",
    "вишней2 \n",
    "\"\"\" \n",
    "print(re.findall(r'Торт.с', text)) \n",
    " \n",
    "print(re.findall(r'Торт.с', text, flags=re.DOTALL)) \n",
    "\n",
    "print(re.findall(r'виш\\w+', text, flags=re.MULTILINE)) \n",
    "\n",
    "print(re.findall(r'^виш\\w+', text, flags=re.MULTILINE)) \n"
   ]
  },
  {
   "cell_type": "code",
   "execution_count": 4,
   "metadata": {},
   "outputs": [
    {
     "name": "stdout",
     "output_type": "stream",
     "text": [
      "23-12\n",
      "Not found\n",
      "YES\n",
      "NO\n",
      "['Где', 'скажите', 'мне', 'мой', 'телефон', '']\n",
      "['19.01.2018', '01.09.2017']\n",
      "Дата 19.01.2018 начинается с позиции 20\n",
      "Дата 01.09.2017 начинается с позиции 45\n"
     ]
    }
   ],
   "source": [
    "match = re.search(r'\\d\\d\\D\\d\\d', r'Телефон 123-12-12') \n",
    "print(match[0] if match else 'Not found') \n",
    "\n",
    "match = re.search(r'\\d\\d\\D\\d\\d', r'Телефон 1231212') \n",
    "print(match[0] if match else 'Not found') \n",
    "\n",
    "match = re.fullmatch(r'\\d\\d\\D\\d\\d', r'12-12') \n",
    "print('YES' if match else 'NO') \n",
    "\n",
    "match = re.fullmatch(r'\\d\\d\\D\\d\\d', r'Т. 12-12') \n",
    "print('YES' if match else 'NO') \n",
    " \n",
    "\n",
    "print(re.split(r'\\W+', 'Где, скажите мне, мой телефон?')) \n",
    "\n",
    "\n",
    "print(re.findall(r'\\d\\d\\.\\d\\d\\.\\d{4}', \n",
    "                 r'Эта строка написана 19.01.2018, а могла бы и 01.09.2017')) \n",
    " \n",
    "\n",
    "for m in re.finditer(r'\\d\\d\\.\\d\\d\\.\\d{4}', r'Эта строка написана 19.01.2018, а могла бы и 01.09.2017'): \n",
    "    print('Дата', m[0], 'начинается с позиции', m.start()) \n",
    "\n"
   ]
  },
  {
   "cell_type": "code",
   "execution_count": null,
   "metadata": {},
   "outputs": [],
   "source": []
  }
 ],
 "metadata": {
  "kernelspec": {
   "display_name": "Python 3",
   "language": "python",
   "name": "python3"
  },
  "language_info": {
   "codemirror_mode": {
    "name": "ipython",
    "version": 3
   },
   "file_extension": ".py",
   "mimetype": "text/x-python",
   "name": "python",
   "nbconvert_exporter": "python",
   "pygments_lexer": "ipython3",
   "version": "3.8.3"
  }
 },
 "nbformat": 4,
 "nbformat_minor": 4
}

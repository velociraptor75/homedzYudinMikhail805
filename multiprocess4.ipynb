{
 "cells": [
  {
   "cell_type": "code",
   "execution_count": 5,
   "metadata": {},
   "outputs": [
    {
     "name": "stdout",
     "output_type": "stream",
     "text": [
      "0.042885541915893555\n"
     ]
    }
   ],
   "source": [
    "import urllib.request\n",
    "import time\n",
    "\n",
    "import threading\n",
    "import sys\n",
    "\n",
    "urls = ['https://www.yandex.ru',\n",
    "        'https://www.google.com',\n",
    "        'https://habrahabr.ru',\n",
    "        'https://www.python.org',\n",
    "        'https://isocpp.org']\n",
    "\n",
    "\n",
    "def read_url(url):\n",
    "    with urllib.request.urlopen(url) as u:\n",
    "        return u.read()\n",
    "\n",
    "def thread1():\n",
    "\n",
    "    threads = [ threading.Thread(target=read_url, args=(i,)) for i in urls ]\n",
    "    for thread in threads:\n",
    "        thread.start() \n",
    "\n",
    "start = time.time()\n",
    "thread1()\n",
    "print(time.time() - start)\n",
    "\n",
    "\n"
   ]
  },
  {
   "cell_type": "code",
   "execution_count": null,
   "metadata": {},
   "outputs": [],
   "source": []
  }
 ],
 "metadata": {
  "kernelspec": {
   "display_name": "Python 3",
   "language": "python",
   "name": "python3"
  },
  "language_info": {
   "codemirror_mode": {
    "name": "ipython",
    "version": 3
   },
   "file_extension": ".py",
   "mimetype": "text/x-python",
   "name": "python",
   "nbconvert_exporter": "python",
   "pygments_lexer": "ipython3",
   "version": "3.8.3"
  }
 },
 "nbformat": 4,
 "nbformat_minor": 2
}
